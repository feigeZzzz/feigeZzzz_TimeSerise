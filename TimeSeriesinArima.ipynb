{
 "cells": [
  {
   "cell_type": "code",
   "execution_count": 1,
   "metadata": {},
   "outputs": [],
   "source": [
    "%matplotlib inline\n",
    "import pandas as pd\n",
    "import numpy as np\n",
    "import statsmodels"
   ]
  },
  {
   "cell_type": "markdown",
   "metadata": {},
   "source": [
    "#### 对数据进行arima模型分析，其中包括平稳性分析（单根分析）、季节性分析、自相关和偏自相关分析、模型预测"
   ]
  },
  {
   "cell_type": "code",
   "execution_count": 2,
   "metadata": {},
   "outputs": [],
   "source": [
    "dataset = pd.read_csv('ShanghaiStockIndex.csv', encoding='gbk')"
   ]
  },
  {
   "cell_type": "code",
   "execution_count": 3,
   "metadata": {},
   "outputs": [
    {
     "data": {
      "text/html": [
       "<div>\n",
       "<style scoped>\n",
       "    .dataframe tbody tr th:only-of-type {\n",
       "        vertical-align: middle;\n",
       "    }\n",
       "\n",
       "    .dataframe tbody tr th {\n",
       "        vertical-align: top;\n",
       "    }\n",
       "\n",
       "    .dataframe thead th {\n",
       "        text-align: right;\n",
       "    }\n",
       "</style>\n",
       "<table border=\"1\" class=\"dataframe\">\n",
       "  <thead>\n",
       "    <tr style=\"text-align: right;\">\n",
       "      <th></th>\n",
       "      <th>日期</th>\n",
       "      <th>股票代码</th>\n",
       "      <th>名称</th>\n",
       "      <th>收盘价</th>\n",
       "      <th>最高价</th>\n",
       "      <th>最低价</th>\n",
       "      <th>开盘价</th>\n",
       "      <th>前收盘</th>\n",
       "      <th>涨跌额</th>\n",
       "      <th>涨跌幅</th>\n",
       "      <th>成交量</th>\n",
       "      <th>成交金额</th>\n",
       "    </tr>\n",
       "  </thead>\n",
       "  <tbody>\n",
       "    <tr>\n",
       "      <th>0</th>\n",
       "      <td>2019-10-23</td>\n",
       "      <td>'000001</td>\n",
       "      <td>上证指数</td>\n",
       "      <td>2941.6188</td>\n",
       "      <td>2957.2995</td>\n",
       "      <td>2934.6274</td>\n",
       "      <td>2952.9693</td>\n",
       "      <td>2954.3799</td>\n",
       "      <td>-12.7611</td>\n",
       "      <td>-0.4319</td>\n",
       "      <td>123812881</td>\n",
       "      <td>1.39653650476e+11</td>\n",
       "    </tr>\n",
       "    <tr>\n",
       "      <th>1</th>\n",
       "      <td>2019-10-22</td>\n",
       "      <td>'000001</td>\n",
       "      <td>上证指数</td>\n",
       "      <td>2954.3799</td>\n",
       "      <td>2954.6415</td>\n",
       "      <td>2934.3873</td>\n",
       "      <td>2945.6001</td>\n",
       "      <td>2939.6179</td>\n",
       "      <td>14.762</td>\n",
       "      <td>0.5022</td>\n",
       "      <td>117482048</td>\n",
       "      <td>1.30381741175e+11</td>\n",
       "    </tr>\n",
       "    <tr>\n",
       "      <th>2</th>\n",
       "      <td>2019-10-21</td>\n",
       "      <td>'000001</td>\n",
       "      <td>上证指数</td>\n",
       "      <td>2939.6179</td>\n",
       "      <td>2940.3246</td>\n",
       "      <td>2917.6884</td>\n",
       "      <td>2933.8969</td>\n",
       "      <td>2938.1413</td>\n",
       "      <td>1.4766</td>\n",
       "      <td>0.0503</td>\n",
       "      <td>132475107</td>\n",
       "      <td>1.4568588122e+11</td>\n",
       "    </tr>\n",
       "    <tr>\n",
       "      <th>3</th>\n",
       "      <td>2019-10-18</td>\n",
       "      <td>'000001</td>\n",
       "      <td>上证指数</td>\n",
       "      <td>2938.1413</td>\n",
       "      <td>2987.2035</td>\n",
       "      <td>2933.2424</td>\n",
       "      <td>2982.3417</td>\n",
       "      <td>2977.3342</td>\n",
       "      <td>-39.1929</td>\n",
       "      <td>-1.3164</td>\n",
       "      <td>149990678</td>\n",
       "      <td>1.62018272294e+11</td>\n",
       "    </tr>\n",
       "    <tr>\n",
       "      <th>4</th>\n",
       "      <td>2019-10-17</td>\n",
       "      <td>'000001</td>\n",
       "      <td>上证指数</td>\n",
       "      <td>2977.3342</td>\n",
       "      <td>2986.7191</td>\n",
       "      <td>2969.5680</td>\n",
       "      <td>2979.9929</td>\n",
       "      <td>2978.7124</td>\n",
       "      <td>-1.3782</td>\n",
       "      <td>-0.0463</td>\n",
       "      <td>122527614</td>\n",
       "      <td>1.36051252104e+11</td>\n",
       "    </tr>\n",
       "  </tbody>\n",
       "</table>\n",
       "</div>"
      ],
      "text/plain": [
       "           日期     股票代码    名称        收盘价        最高价        最低价        开盘价  \\\n",
       "0  2019-10-23  '000001  上证指数  2941.6188  2957.2995  2934.6274  2952.9693   \n",
       "1  2019-10-22  '000001  上证指数  2954.3799  2954.6415  2934.3873  2945.6001   \n",
       "2  2019-10-21  '000001  上证指数  2939.6179  2940.3246  2917.6884  2933.8969   \n",
       "3  2019-10-18  '000001  上证指数  2938.1413  2987.2035  2933.2424  2982.3417   \n",
       "4  2019-10-17  '000001  上证指数  2977.3342  2986.7191  2969.5680  2979.9929   \n",
       "\n",
       "         前收盘       涨跌额      涨跌幅        成交量               成交金额  \n",
       "0  2954.3799  -12.7611  -0.4319  123812881  1.39653650476e+11  \n",
       "1  2939.6179    14.762   0.5022  117482048  1.30381741175e+11  \n",
       "2  2938.1413    1.4766   0.0503  132475107   1.4568588122e+11  \n",
       "3  2977.3342  -39.1929  -1.3164  149990678  1.62018272294e+11  \n",
       "4  2978.7124   -1.3782  -0.0463  122527614  1.36051252104e+11  "
      ]
     },
     "execution_count": 3,
     "metadata": {},
     "output_type": "execute_result"
    }
   ],
   "source": [
    "dataset.head()"
   ]
  },
  {
   "cell_type": "code",
   "execution_count": 4,
   "metadata": {},
   "outputs": [],
   "source": [
    "dataset.set_index(keys=['日期'], drop=True, inplace=True)"
   ]
  },
  {
   "cell_type": "code",
   "execution_count": 5,
   "metadata": {},
   "outputs": [
    {
     "data": {
      "text/html": [
       "<div>\n",
       "<style scoped>\n",
       "    .dataframe tbody tr th:only-of-type {\n",
       "        vertical-align: middle;\n",
       "    }\n",
       "\n",
       "    .dataframe tbody tr th {\n",
       "        vertical-align: top;\n",
       "    }\n",
       "\n",
       "    .dataframe thead th {\n",
       "        text-align: right;\n",
       "    }\n",
       "</style>\n",
       "<table border=\"1\" class=\"dataframe\">\n",
       "  <thead>\n",
       "    <tr style=\"text-align: right;\">\n",
       "      <th></th>\n",
       "      <th>股票代码</th>\n",
       "      <th>名称</th>\n",
       "      <th>收盘价</th>\n",
       "      <th>最高价</th>\n",
       "      <th>最低价</th>\n",
       "      <th>开盘价</th>\n",
       "      <th>前收盘</th>\n",
       "      <th>涨跌额</th>\n",
       "      <th>涨跌幅</th>\n",
       "      <th>成交量</th>\n",
       "      <th>成交金额</th>\n",
       "    </tr>\n",
       "    <tr>\n",
       "      <th>日期</th>\n",
       "      <th></th>\n",
       "      <th></th>\n",
       "      <th></th>\n",
       "      <th></th>\n",
       "      <th></th>\n",
       "      <th></th>\n",
       "      <th></th>\n",
       "      <th></th>\n",
       "      <th></th>\n",
       "      <th></th>\n",
       "      <th></th>\n",
       "    </tr>\n",
       "  </thead>\n",
       "  <tbody>\n",
       "    <tr>\n",
       "      <th>2019-10-23</th>\n",
       "      <td>'000001</td>\n",
       "      <td>上证指数</td>\n",
       "      <td>2941.6188</td>\n",
       "      <td>2957.2995</td>\n",
       "      <td>2934.6274</td>\n",
       "      <td>2952.9693</td>\n",
       "      <td>2954.3799</td>\n",
       "      <td>-12.7611</td>\n",
       "      <td>-0.4319</td>\n",
       "      <td>123812881</td>\n",
       "      <td>1.39653650476e+11</td>\n",
       "    </tr>\n",
       "    <tr>\n",
       "      <th>2019-10-22</th>\n",
       "      <td>'000001</td>\n",
       "      <td>上证指数</td>\n",
       "      <td>2954.3799</td>\n",
       "      <td>2954.6415</td>\n",
       "      <td>2934.3873</td>\n",
       "      <td>2945.6001</td>\n",
       "      <td>2939.6179</td>\n",
       "      <td>14.762</td>\n",
       "      <td>0.5022</td>\n",
       "      <td>117482048</td>\n",
       "      <td>1.30381741175e+11</td>\n",
       "    </tr>\n",
       "    <tr>\n",
       "      <th>2019-10-21</th>\n",
       "      <td>'000001</td>\n",
       "      <td>上证指数</td>\n",
       "      <td>2939.6179</td>\n",
       "      <td>2940.3246</td>\n",
       "      <td>2917.6884</td>\n",
       "      <td>2933.8969</td>\n",
       "      <td>2938.1413</td>\n",
       "      <td>1.4766</td>\n",
       "      <td>0.0503</td>\n",
       "      <td>132475107</td>\n",
       "      <td>1.4568588122e+11</td>\n",
       "    </tr>\n",
       "    <tr>\n",
       "      <th>2019-10-18</th>\n",
       "      <td>'000001</td>\n",
       "      <td>上证指数</td>\n",
       "      <td>2938.1413</td>\n",
       "      <td>2987.2035</td>\n",
       "      <td>2933.2424</td>\n",
       "      <td>2982.3417</td>\n",
       "      <td>2977.3342</td>\n",
       "      <td>-39.1929</td>\n",
       "      <td>-1.3164</td>\n",
       "      <td>149990678</td>\n",
       "      <td>1.62018272294e+11</td>\n",
       "    </tr>\n",
       "    <tr>\n",
       "      <th>2019-10-17</th>\n",
       "      <td>'000001</td>\n",
       "      <td>上证指数</td>\n",
       "      <td>2977.3342</td>\n",
       "      <td>2986.7191</td>\n",
       "      <td>2969.5680</td>\n",
       "      <td>2979.9929</td>\n",
       "      <td>2978.7124</td>\n",
       "      <td>-1.3782</td>\n",
       "      <td>-0.0463</td>\n",
       "      <td>122527614</td>\n",
       "      <td>1.36051252104e+11</td>\n",
       "    </tr>\n",
       "  </tbody>\n",
       "</table>\n",
       "</div>"
      ],
      "text/plain": [
       "               股票代码    名称        收盘价        最高价        最低价        开盘价  \\\n",
       "日期                                                                      \n",
       "2019-10-23  '000001  上证指数  2941.6188  2957.2995  2934.6274  2952.9693   \n",
       "2019-10-22  '000001  上证指数  2954.3799  2954.6415  2934.3873  2945.6001   \n",
       "2019-10-21  '000001  上证指数  2939.6179  2940.3246  2917.6884  2933.8969   \n",
       "2019-10-18  '000001  上证指数  2938.1413  2987.2035  2933.2424  2982.3417   \n",
       "2019-10-17  '000001  上证指数  2977.3342  2986.7191  2969.5680  2979.9929   \n",
       "\n",
       "                  前收盘       涨跌额      涨跌幅        成交量               成交金额  \n",
       "日期                                                                      \n",
       "2019-10-23  2954.3799  -12.7611  -0.4319  123812881  1.39653650476e+11  \n",
       "2019-10-22  2939.6179    14.762   0.5022  117482048  1.30381741175e+11  \n",
       "2019-10-21  2938.1413    1.4766   0.0503  132475107   1.4568588122e+11  \n",
       "2019-10-18  2977.3342  -39.1929  -1.3164  149990678  1.62018272294e+11  \n",
       "2019-10-17  2978.7124   -1.3782  -0.0463  122527614  1.36051252104e+11  "
      ]
     },
     "execution_count": 5,
     "metadata": {},
     "output_type": "execute_result"
    }
   ],
   "source": [
    "dataset.head()"
   ]
  },
  {
   "cell_type": "code",
   "execution_count": 6,
   "metadata": {},
   "outputs": [],
   "source": [
    "dataset_closePrice = dataset['收盘价']"
   ]
  },
  {
   "cell_type": "code",
   "execution_count": 7,
   "metadata": {},
   "outputs": [
    {
     "data": {
      "text/plain": [
       "日期\n",
       "2019-10-23    2941.6188\n",
       "2019-10-22    2954.3799\n",
       "2019-10-21    2939.6179\n",
       "2019-10-18    2938.1413\n",
       "2019-10-17    2977.3342\n",
       "2019-10-16    2978.7124\n",
       "2019-10-15    2991.0459\n",
       "2019-10-14    3007.8834\n",
       "2019-10-11    2973.6558\n",
       "2019-10-10    2947.7106\n",
       "2019-10-09    2924.8566\n",
       "2019-10-08    2913.5704\n",
       "2019-09-30    2905.1892\n",
       "2019-09-27    2932.1670\n",
       "2019-09-26    2929.0875\n",
       "2019-09-25    2955.4325\n",
       "2019-09-24    2985.3406\n",
       "2019-09-23    2977.0767\n",
       "2019-09-20    3006.4467\n",
       "2019-09-19    2999.2789\n",
       "2019-09-18    2985.6586\n",
       "2019-09-17    2978.1178\n",
       "2019-09-16    3030.7544\n",
       "2019-09-12    3031.2351\n",
       "2019-09-11    3008.8118\n",
       "2019-09-10    3021.2024\n",
       "2019-09-09    3024.7388\n",
       "2019-09-06    2999.6013\n",
       "2019-09-05    2985.8648\n",
       "2019-09-04    2957.4116\n",
       "                ...    \n",
       "1991-01-30     130.4400\n",
       "1991-01-29     130.9500\n",
       "1991-01-28     131.4600\n",
       "1991-01-25     132.0500\n",
       "1991-01-24     132.6100\n",
       "1991-01-23     133.1700\n",
       "1991-01-22     133.7200\n",
       "1991-01-21     134.2400\n",
       "1991-01-18     134.2400\n",
       "1991-01-17     134.2500\n",
       "1991-01-16     134.2400\n",
       "1991-01-15     134.7400\n",
       "1991-01-14     134.6700\n",
       "1991-01-11     134.6000\n",
       "1991-01-10     133.9700\n",
       "1991-01-09     133.3400\n",
       "1991-01-08     132.6800\n",
       "1991-01-07     132.0600\n",
       "1991-01-04     131.4400\n",
       "1991-01-03     130.1400\n",
       "1991-01-02     128.8400\n",
       "1990-12-31     127.6100\n",
       "1990-12-28     126.4500\n",
       "1990-12-27     125.2800\n",
       "1990-12-26     125.2700\n",
       "1990-12-25     120.2500\n",
       "1990-12-24     114.5500\n",
       "1990-12-21     109.1300\n",
       "1990-12-20     104.3900\n",
       "1990-12-19      99.9800\n",
       "Name: ClosePrice, Length: 7051, dtype: float64"
      ]
     },
     "execution_count": 7,
     "metadata": {},
     "output_type": "execute_result"
    }
   ],
   "source": [
    "dataset_closePrice.rename('ClosePrice', inplace=True)"
   ]
  },
  {
   "cell_type": "code",
   "execution_count": 8,
   "metadata": {},
   "outputs": [],
   "source": [
    "dataset.index.rename('Date', inplace=True)"
   ]
  },
  {
   "cell_type": "code",
   "execution_count": 9,
   "metadata": {},
   "outputs": [],
   "source": [
    "dataset_closePrice.index.rename('Date', inplace=True)"
   ]
  },
  {
   "cell_type": "code",
   "execution_count": 10,
   "metadata": {
    "scrolled": true
   },
   "outputs": [
    {
     "data": {
      "text/plain": [
       "pandas.core.indexes.base.Index"
      ]
     },
     "execution_count": 10,
     "metadata": {},
     "output_type": "execute_result"
    }
   ],
   "source": [
    "type(dataset_closePrice.index)"
   ]
  },
  {
   "cell_type": "code",
   "execution_count": 11,
   "metadata": {},
   "outputs": [],
   "source": [
    "dataset_closePrice = dataset_closePrice.iloc[::-1]"
   ]
  },
  {
   "cell_type": "code",
   "execution_count": 12,
   "metadata": {},
   "outputs": [
    {
     "data": {
      "text/plain": [
       "Date\n",
       "1990-12-19      99.9800\n",
       "1990-12-20     104.3900\n",
       "1990-12-21     109.1300\n",
       "1990-12-24     114.5500\n",
       "1990-12-25     120.2500\n",
       "1990-12-26     125.2700\n",
       "1990-12-27     125.2800\n",
       "1990-12-28     126.4500\n",
       "1990-12-31     127.6100\n",
       "1991-01-02     128.8400\n",
       "1991-01-03     130.1400\n",
       "1991-01-04     131.4400\n",
       "1991-01-07     132.0600\n",
       "1991-01-08     132.6800\n",
       "1991-01-09     133.3400\n",
       "1991-01-10     133.9700\n",
       "1991-01-11     134.6000\n",
       "1991-01-14     134.6700\n",
       "1991-01-15     134.7400\n",
       "1991-01-16     134.2400\n",
       "1991-01-17     134.2500\n",
       "1991-01-18     134.2400\n",
       "1991-01-21     134.2400\n",
       "1991-01-22     133.7200\n",
       "1991-01-23     133.1700\n",
       "1991-01-24     132.6100\n",
       "1991-01-25     132.0500\n",
       "1991-01-28     131.4600\n",
       "1991-01-29     130.9500\n",
       "1991-01-30     130.4400\n",
       "                ...    \n",
       "2019-09-04    2957.4116\n",
       "2019-09-05    2985.8648\n",
       "2019-09-06    2999.6013\n",
       "2019-09-09    3024.7388\n",
       "2019-09-10    3021.2024\n",
       "2019-09-11    3008.8118\n",
       "2019-09-12    3031.2351\n",
       "2019-09-16    3030.7544\n",
       "2019-09-17    2978.1178\n",
       "2019-09-18    2985.6586\n",
       "2019-09-19    2999.2789\n",
       "2019-09-20    3006.4467\n",
       "2019-09-23    2977.0767\n",
       "2019-09-24    2985.3406\n",
       "2019-09-25    2955.4325\n",
       "2019-09-26    2929.0875\n",
       "2019-09-27    2932.1670\n",
       "2019-09-30    2905.1892\n",
       "2019-10-08    2913.5704\n",
       "2019-10-09    2924.8566\n",
       "2019-10-10    2947.7106\n",
       "2019-10-11    2973.6558\n",
       "2019-10-14    3007.8834\n",
       "2019-10-15    2991.0459\n",
       "2019-10-16    2978.7124\n",
       "2019-10-17    2977.3342\n",
       "2019-10-18    2938.1413\n",
       "2019-10-21    2939.6179\n",
       "2019-10-22    2954.3799\n",
       "2019-10-23    2941.6188\n",
       "Name: ClosePrice, Length: 7051, dtype: float64"
      ]
     },
     "execution_count": 12,
     "metadata": {},
     "output_type": "execute_result"
    }
   ],
   "source": [
    "dataset_closePrice"
   ]
  },
  {
   "cell_type": "code",
   "execution_count": 13,
   "metadata": {
    "scrolled": true
   },
   "outputs": [],
   "source": [
    "dataset_closePrice = dataset_closePrice.reindex([pd.Timestamp(i) for i in dataset_closePrice.index])"
   ]
  },
  {
   "cell_type": "code",
   "execution_count": 14,
   "metadata": {},
   "outputs": [
    {
     "data": {
      "text/plain": [
       "Date\n",
       "1990-12-19     99.98\n",
       "1990-12-20    104.39\n",
       "1990-12-21    109.13\n",
       "1990-12-24    114.55\n",
       "1990-12-25    120.25\n",
       "Name: ClosePrice, dtype: float64"
      ]
     },
     "execution_count": 14,
     "metadata": {},
     "output_type": "execute_result"
    }
   ],
   "source": [
    "dataset_closePrice.head()"
   ]
  },
  {
   "cell_type": "code",
   "execution_count": 15,
   "metadata": {},
   "outputs": [
    {
     "data": {
      "text/plain": [
       "<matplotlib.axes._subplots.AxesSubplot at 0x7f510aa3d668>"
      ]
     },
     "execution_count": 15,
     "metadata": {},
     "output_type": "execute_result"
    },
    {
     "data": {
      "image/png": "[encoded data removed]",
      "text/plain": [
       "<Figure size 432x288 with 1 Axes>"
      ]
     },
     "metadata": {
      "needs_background": "light"
     },
     "output_type": "display_data"
    }
   ],
   "source": [
    "# 画图，总体趋势\n",
    "dataset_closePrice.plot()"
   ]
  },
  {
   "cell_type": "code",
   "execution_count": 16,
   "metadata": {},
   "outputs": [
    {
     "data": {
      "text/plain": [
       "<matplotlib.axes._subplots.AxesSubplot at 0x7f510f8a5e48>"
      ]
     },
     "execution_count": 16,
     "metadata": {},
     "output_type": "execute_result"
    },
    {
     "data": {
      "image/png": "[encoded data removed]",
      "text/plain": [
       "<Figure size 432x288 with 1 Axes>"
      ]
     },
     "metadata": {
      "needs_background": "light"
     },
     "output_type": "display_data"
    }
   ],
   "source": [
    "# 画图，最高点趋势\n",
    "dataset_closePrice['2007-01-01':'2008-10-1'].plot()"
   ]
  },
  {
   "cell_type": "code",
   "execution_count": 17,
   "metadata": {},
   "outputs": [
    {
     "data": {
      "text/plain": [
       "<matplotlib.axes._subplots.AxesSubplot at 0x7f5106995978>"
      ]
     },
     "execution_count": 17,
     "metadata": {},
     "output_type": "execute_result"
    },
    {
     "data": {
      "image/png": "[encoded data removed]",
      "text/plain": [
       "<Figure size 432x288 with 1 Axes>"
      ]
     },
     "metadata": {
      "needs_background": "light"
     },
     "output_type": "display_data"
    }
   ],
   "source": [
    "#画图，今年趋势\n",
    "dataset_closePrice['2019'].plot()"
   ]
  },
  {
   "cell_type": "markdown",
   "metadata": {},
   "source": [
    "#### 1、判断稳定性，利用单根检测，判断稳定性"
   ]
  },
  {
   "cell_type": "code",
   "execution_count": 18,
   "metadata": {},
   "outputs": [
    {
     "data": {
      "text/plain": [
       "<matplotlib.axes._subplots.AxesSubplot at 0x7f51069814e0>"
      ]
     },
     "execution_count": 18,
     "metadata": {},
     "output_type": "execute_result"
    },
    {
     "data": {
      "image/png": "[encoded data removed]",
      "text/plain": [
       "<Figure size 432x288 with 1 Axes>"
      ]
     },
     "metadata": {
      "needs_background": "light"
     },
     "output_type": "display_data"
    }
   ],
   "source": [
    "# 画图，一个月滑动平均\n",
    "dataset_closePrice.rolling(window=30).mean().plot()"
   ]
  },
  {
   "cell_type": "code",
   "execution_count": 19,
   "metadata": {},
   "outputs": [
    {
     "data": {
      "text/plain": [
       "<matplotlib.axes._subplots.AxesSubplot at 0x7f51068aa9e8>"
      ]
     },
     "execution_count": 19,
     "metadata": {},
     "output_type": "execute_result"
    },
    {
     "data": {
      "image/png": "[encoded data removed]",
      "text/plain": [
       "<Figure size 432x288 with 1 Axes>"
      ]
     },
     "metadata": {
      "needs_background": "light"
     },
     "output_type": "display_data"
    }
   ],
   "source": [
    "# 画图，一年滑动平均\n",
    "dataset_closePrice.rolling(window=365).mean().plot()"
   ]
  },
  {
   "cell_type": "code",
   "execution_count": 20,
   "metadata": {},
   "outputs": [],
   "source": [
    "# 单根检验\n",
    "from statsmodels.tsa.stattools import adfuller"
   ]
  },
  {
   "cell_type": "code",
   "execution_count": 21,
   "metadata": {},
   "outputs": [
    {
     "data": {
      "text/plain": [
       "(-3.2194052808704265,\n",
       " 0.08060384602665477,\n",
       " 35,\n",
       " 7015,\n",
       " {'1%': -3.9600611126422205,\n",
       "  '10%': -3.127418661435511,\n",
       "  '5%': -3.411116042625656},\n",
       " 71918.63675864156)"
      ]
     },
     "execution_count": 21,
     "metadata": {},
     "output_type": "execute_result"
    }
   ],
   "source": [
    "adfuller(dataset_closePrice, autolag='AIC', regression='ct')"
   ]
  },
  {
   "cell_type": "code",
   "execution_count": 22,
   "metadata": {},
   "outputs": [],
   "source": [
    "# P值大于0.05，且值大于5%阈值，说明存在单根，不是平稳数据\n",
    "# 问题一：单根检验的各个参数的选取"
   ]
  },
  {
   "cell_type": "markdown",
   "metadata": {},
   "source": [
    "#### 2、利用差分使得数据平稳"
   ]
  },
  {
   "cell_type": "code",
   "execution_count": 23,
   "metadata": {},
   "outputs": [],
   "source": [
    "dataset_closePrice_1 = dataset_closePrice.diff(1).dropna()"
   ]
  },
  {
   "cell_type": "code",
   "execution_count": 24,
   "metadata": {},
   "outputs": [
    {
     "data": {
      "text/plain": [
       "<matplotlib.axes._subplots.AxesSubplot at 0x7f51051737b8>"
      ]
     },
     "execution_count": 24,
     "metadata": {},
     "output_type": "execute_result"
    },
    {
     "data": {
      "image/png": "[encoded data removed]",
      "text/plain": [
       "<Figure size 432x288 with 1 Axes>"
      ]
     },
     "metadata": {
      "needs_background": "light"
     },
     "output_type": "display_data"
    }
   ],
   "source": [
    "dataset_closePrice_1.plot()"
   ]
  },
  {
   "cell_type": "code",
   "execution_count": 25,
   "metadata": {},
   "outputs": [
    {
     "data": {
      "text/plain": [
       "<matplotlib.axes._subplots.AxesSubplot at 0x7f510697a160>"
      ]
     },
     "execution_count": 25,
     "metadata": {},
     "output_type": "execute_result"
    },
    {
     "data": {
      "image/png": "[encoded data removed]",
      "text/plain": [
       "<Figure size 432x288 with 1 Axes>"
      ]
     },
     "metadata": {
      "needs_background": "light"
     },
     "output_type": "display_data"
    }
   ],
   "source": [
    "dataset_closePrice_1.rolling(window=30).mean().plot()"
   ]
  },
  {
   "cell_type": "code",
   "execution_count": 26,
   "metadata": {},
   "outputs": [
    {
     "data": {
      "text/plain": [
       "<matplotlib.axes._subplots.AxesSubplot at 0x7f5104e42a20>"
      ]
     },
     "execution_count": 26,
     "metadata": {},
     "output_type": "execute_result"
    },
    {
     "data": {
      "image/png": "[encoded data removed]",
      "text/plain": [
       "<Figure size 432x288 with 1 Axes>"
      ]
     },
     "metadata": {
      "needs_background": "light"
     },
     "output_type": "display_data"
    }
   ],
   "source": [
    "dataset_closePrice_1.rolling(window=365).mean().plot()"
   ]
  },
  {
   "cell_type": "code",
   "execution_count": 27,
   "metadata": {},
   "outputs": [
    {
     "data": {
      "text/plain": [
       "(-13.527421566199004,\n",
       " 3.233916912088588e-21,\n",
       " 34,\n",
       " 7015,\n",
       " {'1%': -3.9600611126422205,\n",
       "  '10%': -3.127418661435511,\n",
       "  '5%': -3.411116042625656},\n",
       " 71917.80719547742)"
      ]
     },
     "execution_count": 27,
     "metadata": {},
     "output_type": "execute_result"
    }
   ],
   "source": [
    "adfuller(dataset_closePrice_1, autolag='AIC', regression='ct')"
   ]
  },
  {
   "cell_type": "code",
   "execution_count": 28,
   "metadata": {},
   "outputs": [],
   "source": [
    "# P值远远小于0.05，不接受有单根的假设，数据平稳"
   ]
  },
  {
   "cell_type": "markdown",
   "metadata": {},
   "source": [
    "#### 3、季节性分析\n",
    "##### 股票指数原理上不应该与季节性有关，查看季节性"
   ]
  },
  {
   "cell_type": "code",
   "execution_count": 29,
   "metadata": {},
   "outputs": [],
   "source": [
    "from statsmodels.tsa.seasonal import seasonal_decompose"
   ]
  },
  {
   "cell_type": "code",
   "execution_count": 30,
   "metadata": {},
   "outputs": [],
   "source": [
    "dataset_closePrice_decompose = seasonal_decompose(dataset_closePrice, freq=30)"
   ]
  },
  {
   "cell_type": "code",
   "execution_count": 31,
   "metadata": {},
   "outputs": [
    {
     "data": {
      "image/png": "[encoded data removed]",
      "text/plain": [
       "<Figure size 432x288 with 4 Axes>"
      ]
     },
     "execution_count": 31,
     "metadata": {},
     "output_type": "execute_result"
    },
    {
     "data": {
      "image/png": "[encoded data removed]",
      "text/plain": [
       "<Figure size 432x288 with 4 Axes>"
      ]
     },
     "metadata": {
      "needs_background": "light"
     },
     "output_type": "display_data"
    }
   ],
   "source": [
    "dataset_closePrice_decompose.plot()"
   ]
  },
  {
   "cell_type": "markdown",
   "metadata": {},
   "source": [
    "#### 4、对数分析"
   ]
  },
  {
   "cell_type": "code",
   "execution_count": 32,
   "metadata": {},
   "outputs": [],
   "source": [
    "dataset_closePrice_log = dataset_closePrice.apply(lambda x: np.log(x))"
   ]
  },
  {
   "cell_type": "code",
   "execution_count": 33,
   "metadata": {},
   "outputs": [
    {
     "data": {
      "text/plain": [
       "<matplotlib.axes._subplots.AxesSubplot at 0x7f51018d4080>"
      ]
     },
     "execution_count": 33,
     "metadata": {},
     "output_type": "execute_result"
    },
    {
     "data": {
      "image/png": "[encoded data removed]",
      "text/plain": [
       "<Figure size 432x288 with 1 Axes>"
      ]
     },
     "metadata": {
      "needs_background": "light"
     },
     "output_type": "display_data"
    }
   ],
   "source": [
    "dataset_closePrice_log.plot()"
   ]
  },
  {
   "cell_type": "code",
   "execution_count": 34,
   "metadata": {},
   "outputs": [
    {
     "data": {
      "text/plain": [
       "(-3.4305768181302434,\n",
       " 0.009959639017176536,\n",
       " 28,\n",
       " 7022,\n",
       " {'1%': -3.4312815995582424,\n",
       "  '10%': -2.5669891398502536,\n",
       "  '5%': -2.861951692363166},\n",
       " -33228.37110289316)"
      ]
     },
     "execution_count": 34,
     "metadata": {},
     "output_type": "execute_result"
    }
   ],
   "source": [
    "adfuller(dataset_closePrice_log)"
   ]
  },
  {
   "cell_type": "code",
   "execution_count": 35,
   "metadata": {},
   "outputs": [
    {
     "data": {
      "text/plain": [
       "(-3.9104893771623446,\n",
       " 0.0117359136667009,\n",
       " 28,\n",
       " 7022,\n",
       " {'1%': -3.9600598249985732,\n",
       "  '10%': -3.127418293849536,\n",
       "  '5%': -3.4111154183613044},\n",
       " -33232.17364720492)"
      ]
     },
     "execution_count": 35,
     "metadata": {},
     "output_type": "execute_result"
    }
   ],
   "source": [
    "adfuller(dataset_closePrice_log, autolag='AIC', regression='ct')"
   ]
  },
  {
   "cell_type": "code",
   "execution_count": 36,
   "metadata": {},
   "outputs": [],
   "source": [
    "dataset_closePrice_log_1 = dataset_closePrice_log.diff(1).dropna()"
   ]
  },
  {
   "cell_type": "code",
   "execution_count": 37,
   "metadata": {},
   "outputs": [
    {
     "data": {
      "text/plain": [
       "<matplotlib.axes._subplots.AxesSubplot at 0x7f510181ceb8>"
      ]
     },
     "execution_count": 37,
     "metadata": {},
     "output_type": "execute_result"
    },
    {
     "data": {
      "image/png": "[encoded data removed]",
      "text/plain": [
       "<Figure size 432x288 with 1 Axes>"
      ]
     },
     "metadata": {
      "needs_background": "light"
     },
     "output_type": "display_data"
    }
   ],
   "source": [
    "dataset_closePrice_log_1.plot()"
   ]
  },
  {
   "cell_type": "code",
   "execution_count": 38,
   "metadata": {},
   "outputs": [
    {
     "data": {
      "text/plain": [
       "(-15.264787895208375,\n",
       " 4.805974203183718e-28,\n",
       " 27,\n",
       " 7022,\n",
       " {'1%': -3.4312815995582424,\n",
       "  '10%': -2.5669891398502536,\n",
       "  '5%': -2.861951692363166},\n",
       " -33212.593902598746)"
      ]
     },
     "execution_count": 38,
     "metadata": {},
     "output_type": "execute_result"
    }
   ],
   "source": [
    "adfuller(dataset_closePrice_log_1)"
   ]
  },
  {
   "cell_type": "markdown",
   "metadata": {},
   "source": [
    "#### 5、Arima模型估计"
   ]
  },
  {
   "cell_type": "code",
   "execution_count": 39,
   "metadata": {},
   "outputs": [],
   "source": [
    "# 首先确定p值和q值\n",
    "from statsmodels.tsa.stattools import acf, pacf"
   ]
  },
  {
   "cell_type": "code",
   "execution_count": 40,
   "metadata": {},
   "outputs": [],
   "source": [
    "dataset_acf, dataset_confint= acf(dataset_closePrice_log_1, nlags=20, alpha=0.05)"
   ]
  },
  {
   "cell_type": "code",
   "execution_count": 41,
   "metadata": {},
   "outputs": [],
   "source": [
    "from statsmodels.graphics.tsaplots import plot_acf, plot_pacf"
   ]
  },
  {
   "cell_type": "code",
   "execution_count": 42,
   "metadata": {
    "scrolled": true
   },
   "outputs": [
    {
     "data": {
      "image/png": "[encoded data removed]",
      "text/plain": [
       "<Figure size 432x288 with 1 Axes>"
      ]
     },
     "execution_count": 42,
     "metadata": {},
     "output_type": "execute_result"
    },
    {
     "data": {
      "image/png": "[encoded data removed]",
      "text/plain": [
       "<Figure size 432x288 with 1 Axes>"
      ]
     },
     "metadata": {
      "needs_background": "light"
     },
     "output_type": "display_data"
    }
   ],
   "source": [
    "plot_acf(dataset_closePrice_log_1, lags=20)"
   ]
  },
  {
   "cell_type": "code",
   "execution_count": 43,
   "metadata": {
    "scrolled": true
   },
   "outputs": [
    {
     "data": {
      "image/png": "[encoded data removed]",
      "text/plain": [
       "<Figure size 432x288 with 1 Axes>"
      ]
     },
     "execution_count": 43,
     "metadata": {},
     "output_type": "execute_result"
    },
    {
     "data": {
      "image/png": "[encoded data removed]",
      "text/plain": [
       "<Figure size 432x288 with 1 Axes>"
      ]
     },
     "metadata": {
      "needs_background": "light"
     },
     "output_type": "display_data"
    }
   ],
   "source": [
    "plot_pacf(dataset_closePrice_log_1, lags=20)"
   ]
  },
  {
   "cell_type": "markdown",
   "metadata": {},
   "source": [
    "##### p值的选定为当pacf图迟延进入95%的置信区间，acf值近乎于0；q值选定为当acf图迟延进入95%的置信区间，pacf图近乎于0\n",
    "##### 所以选定p值为1，q值为4"
   ]
  },
  {
   "cell_type": "code",
   "execution_count": 44,
   "metadata": {},
   "outputs": [],
   "source": [
    "from statsmodels.tsa import arima_model"
   ]
  },
  {
   "cell_type": "code",
   "execution_count": 64,
   "metadata": {},
   "outputs": [
    {
     "name": "stderr",
     "output_type": "stream",
     "text": [
      "/home/r2learn/anaconda3/lib/python3.7/site-packages/statsmodels/tsa/base/tsa_model.py:225: ValueWarning: A date index has been provided, but it has no associated frequency information and so will be ignored when e.g. forecasting.\n",
      "  ' ignored when e.g. forecasting.', ValueWarning)\n",
      "/home/r2learn/anaconda3/lib/python3.7/site-packages/statsmodels/tsa/base/tsa_model.py:225: ValueWarning: A date index has been provided, but it has no associated frequency information and so will be ignored when e.g. forecasting.\n",
      "  ' ignored when e.g. forecasting.', ValueWarning)\n"
     ]
    }
   ],
   "source": [
    "model = arima_model.ARIMA(dataset_closePrice_log, order=(1, 2, 4))"
   ]
  },
  {
   "cell_type": "code",
   "execution_count": 65,
   "metadata": {},
   "outputs": [
    {
     "name": "stderr",
     "output_type": "stream",
     "text": [
      "/home/r2learn/anaconda3/lib/python3.7/site-packages/statsmodels/base/model.py:488: HessianInversionWarning: Inverting hessian failed, no bse or cov_params available\n",
      "  'available', HessianInversionWarning)\n"
     ]
    }
   ],
   "source": [
    "dataset_predict = model.fit(disp=True)"
   ]
  },
  {
   "cell_type": "code",
   "execution_count": 82,
   "metadata": {},
   "outputs": [],
   "source": [
    "import datetime, time"
   ]
  },
  {
   "cell_type": "code",
   "execution_count": 84,
   "metadata": {},
   "outputs": [],
   "source": [
    "a = time.strftime('1990-12-21')"
   ]
  },
  {
   "cell_type": "code",
   "execution_count": 87,
   "metadata": {},
   "outputs": [
    {
     "data": {
      "text/plain": [
       "str"
      ]
     },
     "execution_count": 87,
     "metadata": {},
     "output_type": "execute_result"
    }
   ],
   "source": [
    "type(a)"
   ]
  },
  {
   "cell_type": "code",
   "execution_count": null,
   "metadata": {},
   "outputs": [],
   "source": []
  },
  {
   "cell_type": "code",
   "execution_count": 88,
   "metadata": {},
   "outputs": [],
   "source": [
    "a = datetime.datetime.strptime('1990-12-21', '%Y-%m-%d')"
   ]
  },
  {
   "cell_type": "code",
   "execution_count": 90,
   "metadata": {},
   "outputs": [
    {
     "data": {
      "text/plain": [
       "datetime.datetime"
      ]
     },
     "execution_count": 90,
     "metadata": {},
     "output_type": "execute_result"
    }
   ],
   "source": [
    "type(a)"
   ]
  },
  {
   "cell_type": "code",
   "execution_count": 80,
   "metadata": {},
   "outputs": [],
   "source": [
    "b = datetime.datetime.strptime('2019-10-21', '%Y-%m-%d')"
   ]
  },
  {
   "cell_type": "code",
   "execution_count": 94,
   "metadata": {
    "scrolled": true
   },
   "outputs": [
    {
     "data": {
      "text/plain": [
       "array([-8.48700975e-07, -6.13270163e-04, -3.07086720e-03, ...,\n",
       "        1.28160356e-02, -8.12963679e-04, -4.92842258e-03])"
      ]
     },
     "execution_count": 94,
     "metadata": {},
     "output_type": "execute_result"
    }
   ],
   "source": [
    "model.predict(dataset_predict.params, start=2, end=7050)"
   ]
  },
  {
   "cell_type": "code",
   "execution_count": 70,
   "metadata": {
    "scrolled": true
   },
   "outputs": [
    {
     "data": {
      "text/plain": [
       "Date\n",
       "1990-12-21   -8.487010e-07\n",
       "1990-12-24   -6.132702e-04\n",
       "1990-12-25   -3.070867e-03\n",
       "1990-12-26   -2.270103e-03\n",
       "1990-12-27    4.119977e-03\n",
       "1990-12-28    3.602594e-02\n",
       "1990-12-31    2.244986e-02\n",
       "1991-01-02    1.930526e-02\n",
       "1991-01-03    1.752014e-02\n",
       "1991-01-04    1.495329e-02\n",
       "1991-01-07    1.397184e-02\n",
       "1991-01-08    1.722055e-02\n",
       "1991-01-09    1.591082e-02\n",
       "1991-01-10    1.432230e-02\n",
       "1991-01-11    1.370008e-02\n",
       "1991-01-14    1.275870e-02\n",
       "1991-01-15    1.578896e-02\n",
       "1991-01-16    1.475748e-02\n",
       "1991-01-17    1.773110e-02\n",
       "1991-01-18    1.329466e-02\n",
       "1991-01-21    1.272481e-02\n",
       "1991-01-22    1.218039e-02\n",
       "1991-01-23    1.506426e-02\n",
       "1991-01-24    1.458197e-02\n",
       "1991-01-25    1.390173e-02\n",
       "1991-01-28    1.340054e-02\n",
       "1991-01-29    1.302182e-02\n",
       "1991-01-30    1.197489e-02\n",
       "1991-01-31    1.150244e-02\n",
       "1991-02-01    1.081717e-02\n",
       "                  ...     \n",
       "2019-09-04   -1.703353e-03\n",
       "2019-09-05   -8.118840e-03\n",
       "2019-09-06   -8.670399e-03\n",
       "2019-09-09   -3.241694e-03\n",
       "2019-09-10   -7.137320e-03\n",
       "2019-09-11    2.176171e-03\n",
       "2019-09-12    4.699471e-03\n",
       "2019-09-16   -6.507550e-03\n",
       "2019-09-17    1.091525e-03\n",
       "2019-09-18    1.743742e-02\n",
       "2019-09-19   -2.483460e-03\n",
       "2019-09-20   -4.067558e-03\n",
       "2019-09-23   -1.366829e-03\n",
       "2019-09-24    9.784708e-03\n",
       "2019-09-25   -2.411131e-03\n",
       "2019-09-26    9.663278e-03\n",
       "2019-09-27    8.604371e-03\n",
       "2019-09-30   -1.559380e-03\n",
       "2019-10-08    8.765083e-03\n",
       "2019-10-09   -3.114106e-03\n",
       "2019-10-10   -3.903273e-03\n",
       "2019-10-11   -7.122826e-03\n",
       "2019-10-14   -8.016983e-03\n",
       "2019-10-15   -1.013112e-02\n",
       "2019-10-16    6.090374e-03\n",
       "2019-10-17    4.329193e-03\n",
       "2019-10-18    3.875126e-04\n",
       "2019-10-21    1.281604e-02\n",
       "2019-10-22   -8.129637e-04\n",
       "2019-10-23   -4.928423e-03\n",
       "Length: 7049, dtype: float64"
      ]
     },
     "execution_count": 70,
     "metadata": {},
     "output_type": "execute_result"
    }
   ],
   "source": [
    "dataset_predict.fittedvalues"
   ]
  },
  {
   "cell_type": "code",
   "execution_count": 48,
   "metadata": {},
   "outputs": [
    {
     "data": {
      "text/plain": [
       "[<matplotlib.lines.Line2D at 0x7f5100036828>]"
      ]
     },
     "execution_count": 48,
     "metadata": {},
     "output_type": "execute_result"
    },
    {
     "data": {
      "image/png": "[encoded data removed]",
      "text/plain": [
       "<Figure size 432x288 with 1 Axes>"
      ]
     },
     "metadata": {
      "needs_background": "light"
     },
     "output_type": "display_data"
    }
   ],
   "source": [
    "import matplotlib.pyplot as plt\n",
    "plt.plot(dataset_closePrice_log_1.diff(1).dropna())\n",
    "plt.plot(dataset_predict.fittedvalues, color='red')\n",
    "#plt.title('RSS: %.4f'% sum((results_MA.fittedvalues-log_air_passengers_diff)**2))"
   ]
  },
  {
   "cell_type": "code",
   "execution_count": 49,
   "metadata": {},
   "outputs": [],
   "source": [
    "predict_diff_2 = pd.Series(dataset_predict.fittedvalues, copy=True)"
   ]
  },
  {
   "cell_type": "code",
   "execution_count": 50,
   "metadata": {
    "scrolled": true
   },
   "outputs": [],
   "source": [
    "predict_cumsum_1 = predict_diff_2.cumsum()"
   ]
  },
  {
   "cell_type": "code",
   "execution_count": 59,
   "metadata": {
    "scrolled": true
   },
   "outputs": [
    {
     "data": {
      "text/plain": [
       "Date\n",
       "1990-12-21   -8.487010e-07\n",
       "1990-12-24   -6.141189e-04\n",
       "1990-12-25   -3.684986e-03\n",
       "1990-12-26   -5.955089e-03\n",
       "1990-12-27   -1.835112e-03\n",
       "1990-12-28    3.419083e-02\n",
       "1990-12-31    5.664069e-02\n",
       "1991-01-02    7.594594e-02\n",
       "1991-01-03    9.346609e-02\n",
       "1991-01-04    1.084194e-01\n",
       "1991-01-07    1.223912e-01\n",
       "1991-01-08    1.396118e-01\n",
       "1991-01-09    1.555226e-01\n",
       "1991-01-10    1.698449e-01\n",
       "1991-01-11    1.835450e-01\n",
       "1991-01-14    1.963037e-01\n",
       "1991-01-15    2.120926e-01\n",
       "1991-01-16    2.268501e-01\n",
       "1991-01-17    2.445812e-01\n",
       "1991-01-18    2.578759e-01\n",
       "1991-01-21    2.706007e-01\n",
       "1991-01-22    2.827811e-01\n",
       "1991-01-23    2.978453e-01\n",
       "1991-01-24    3.124273e-01\n",
       "1991-01-25    3.263290e-01\n",
       "1991-01-28    3.397296e-01\n",
       "1991-01-29    3.527514e-01\n",
       "1991-01-30    3.647263e-01\n",
       "1991-01-31    3.762287e-01\n",
       "1991-02-01    3.870459e-01\n",
       "                  ...     \n",
       "2019-09-04    3.973279e-01\n",
       "2019-09-05    3.892090e-01\n",
       "2019-09-06    3.805386e-01\n",
       "2019-09-09    3.772969e-01\n",
       "2019-09-10    3.701596e-01\n",
       "2019-09-11    3.723358e-01\n",
       "2019-09-12    3.770353e-01\n",
       "2019-09-16    3.705277e-01\n",
       "2019-09-17    3.716192e-01\n",
       "2019-09-18    3.890567e-01\n",
       "2019-09-19    3.865732e-01\n",
       "2019-09-20    3.825056e-01\n",
       "2019-09-23    3.811388e-01\n",
       "2019-09-24    3.909235e-01\n",
       "2019-09-25    3.885124e-01\n",
       "2019-09-26    3.981757e-01\n",
       "2019-09-27    4.067800e-01\n",
       "2019-09-30    4.052207e-01\n",
       "2019-10-08    4.139857e-01\n",
       "2019-10-09    4.108716e-01\n",
       "2019-10-10    4.069684e-01\n",
       "2019-10-11    3.998455e-01\n",
       "2019-10-14    3.918286e-01\n",
       "2019-10-15    3.816974e-01\n",
       "2019-10-16    3.877878e-01\n",
       "2019-10-17    3.921170e-01\n",
       "2019-10-18    3.925045e-01\n",
       "2019-10-21    4.053206e-01\n",
       "2019-10-22    4.045076e-01\n",
       "2019-10-23    3.995792e-01\n",
       "Length: 7049, dtype: float64"
      ]
     },
     "execution_count": 59,
     "metadata": {},
     "output_type": "execute_result"
    }
   ],
   "source": [
    "predict_cumsum_1"
   ]
  },
  {
   "cell_type": "code",
   "execution_count": 51,
   "metadata": {},
   "outputs": [],
   "source": [
    "dataset_closePrice_log_1 = dataset_closePrice_log.diff(1).dropna()"
   ]
  },
  {
   "cell_type": "code",
   "execution_count": 60,
   "metadata": {
    "scrolled": true
   },
   "outputs": [
    {
     "data": {
      "text/plain": [
       "Date\n",
       "1990-12-20    0.043164\n",
       "1990-12-21    0.044406\n",
       "1990-12-24    0.048472\n",
       "1990-12-25    0.048562\n",
       "1990-12-26    0.040898\n",
       "1990-12-27    0.000080\n",
       "1990-12-28    0.009296\n",
       "1990-12-31    0.009132\n",
       "1991-01-02    0.009593\n",
       "1991-01-03    0.010039\n",
       "1991-01-04    0.009940\n",
       "1991-01-07    0.004706\n",
       "1991-01-08    0.004684\n",
       "1991-01-09    0.004962\n",
       "1991-01-10    0.004714\n",
       "1991-01-11    0.004692\n",
       "1991-01-14    0.000520\n",
       "1991-01-15    0.000520\n",
       "1991-01-16   -0.003718\n",
       "1991-01-17    0.000074\n",
       "1991-01-18   -0.000074\n",
       "1991-01-21    0.000000\n",
       "1991-01-22   -0.003881\n",
       "1991-01-23   -0.004122\n",
       "1991-01-24   -0.004214\n",
       "1991-01-25   -0.004232\n",
       "1991-01-28   -0.004478\n",
       "1991-01-29   -0.003887\n",
       "1991-01-30   -0.003902\n",
       "1991-01-31   -0.003610\n",
       "                ...   \n",
       "2019-09-04    0.009260\n",
       "2019-09-05    0.009575\n",
       "2019-09-06    0.004590\n",
       "2019-09-09    0.008345\n",
       "2019-09-10   -0.001170\n",
       "2019-09-11   -0.004110\n",
       "2019-09-12    0.007425\n",
       "2019-09-16   -0.000159\n",
       "2019-09-17   -0.017520\n",
       "2019-09-18    0.002529\n",
       "2019-09-19    0.004552\n",
       "2019-09-20    0.002387\n",
       "2019-09-23   -0.009817\n",
       "2019-09-24    0.002772\n",
       "2019-09-25   -0.010069\n",
       "2019-09-26   -0.008954\n",
       "2019-09-27    0.001051\n",
       "2019-09-30   -0.009243\n",
       "2019-10-08    0.002881\n",
       "2019-10-09    0.003866\n",
       "2019-10-10    0.007783\n",
       "2019-10-11    0.008763\n",
       "2019-10-14    0.011445\n",
       "2019-10-15   -0.005614\n",
       "2019-10-16   -0.004132\n",
       "2019-10-17   -0.000463\n",
       "2019-10-18   -0.013251\n",
       "2019-10-21    0.000502\n",
       "2019-10-22    0.005009\n",
       "2019-10-23   -0.004329\n",
       "Name: ClosePrice, Length: 7050, dtype: float64"
      ]
     },
     "execution_count": 60,
     "metadata": {},
     "output_type": "execute_result"
    }
   ],
   "source": [
    "dataset_closePrice_log_1"
   ]
  },
  {
   "cell_type": "code",
   "execution_count": 52,
   "metadata": {},
   "outputs": [],
   "source": [
    "dataset_closePrice_1_A = pd.Series(dataset_closePrice_log_1.iloc[0], index=dataset_closePrice_log_1.index)"
   ]
  },
  {
   "cell_type": "code",
   "execution_count": 61,
   "metadata": {
    "scrolled": true
   },
   "outputs": [
    {
     "data": {
      "text/plain": [
       "Date\n",
       "1990-12-20    0.043164\n",
       "1990-12-21    0.043164\n",
       "1990-12-24    0.043164\n",
       "1990-12-25    0.043164\n",
       "1990-12-26    0.043164\n",
       "1990-12-27    0.043164\n",
       "1990-12-28    0.043164\n",
       "1990-12-31    0.043164\n",
       "1991-01-02    0.043164\n",
       "1991-01-03    0.043164\n",
       "1991-01-04    0.043164\n",
       "1991-01-07    0.043164\n",
       "1991-01-08    0.043164\n",
       "1991-01-09    0.043164\n",
       "1991-01-10    0.043164\n",
       "1991-01-11    0.043164\n",
       "1991-01-14    0.043164\n",
       "1991-01-15    0.043164\n",
       "1991-01-16    0.043164\n",
       "1991-01-17    0.043164\n",
       "1991-01-18    0.043164\n",
       "1991-01-21    0.043164\n",
       "1991-01-22    0.043164\n",
       "1991-01-23    0.043164\n",
       "1991-01-24    0.043164\n",
       "1991-01-25    0.043164\n",
       "1991-01-28    0.043164\n",
       "1991-01-29    0.043164\n",
       "1991-01-30    0.043164\n",
       "1991-01-31    0.043164\n",
       "                ...   \n",
       "2019-09-04    0.043164\n",
       "2019-09-05    0.043164\n",
       "2019-09-06    0.043164\n",
       "2019-09-09    0.043164\n",
       "2019-09-10    0.043164\n",
       "2019-09-11    0.043164\n",
       "2019-09-12    0.043164\n",
       "2019-09-16    0.043164\n",
       "2019-09-17    0.043164\n",
       "2019-09-18    0.043164\n",
       "2019-09-19    0.043164\n",
       "2019-09-20    0.043164\n",
       "2019-09-23    0.043164\n",
       "2019-09-24    0.043164\n",
       "2019-09-25    0.043164\n",
       "2019-09-26    0.043164\n",
       "2019-09-27    0.043164\n",
       "2019-09-30    0.043164\n",
       "2019-10-08    0.043164\n",
       "2019-10-09    0.043164\n",
       "2019-10-10    0.043164\n",
       "2019-10-11    0.043164\n",
       "2019-10-14    0.043164\n",
       "2019-10-15    0.043164\n",
       "2019-10-16    0.043164\n",
       "2019-10-17    0.043164\n",
       "2019-10-18    0.043164\n",
       "2019-10-21    0.043164\n",
       "2019-10-22    0.043164\n",
       "2019-10-23    0.043164\n",
       "Length: 7050, dtype: float64"
      ]
     },
     "execution_count": 61,
     "metadata": {},
     "output_type": "execute_result"
    }
   ],
   "source": [
    "dataset_closePrice_1_A"
   ]
  },
  {
   "cell_type": "code",
   "execution_count": 53,
   "metadata": {},
   "outputs": [],
   "source": [
    "dataset_closePrice_A = dataset_closePrice_1_A.add(predict_cumsum_1, fill_value=0)"
   ]
  },
  {
   "cell_type": "code",
   "execution_count": 62,
   "metadata": {
    "scrolled": true
   },
   "outputs": [
    {
     "data": {
      "text/plain": [
       "Date\n",
       "1990-12-20    0.043164\n",
       "1990-12-21    0.043163\n",
       "1990-12-24    0.042550\n",
       "1990-12-25    0.039479\n",
       "1990-12-26    0.037209\n",
       "1990-12-27    0.041329\n",
       "1990-12-28    0.077355\n",
       "1990-12-31    0.099804\n",
       "1991-01-02    0.119110\n",
       "1991-01-03    0.136630\n",
       "1991-01-04    0.151583\n",
       "1991-01-07    0.165555\n",
       "1991-01-08    0.182775\n",
       "1991-01-09    0.198686\n",
       "1991-01-10    0.213009\n",
       "1991-01-11    0.226709\n",
       "1991-01-14    0.239467\n",
       "1991-01-15    0.255256\n",
       "1991-01-16    0.270014\n",
       "1991-01-17    0.287745\n",
       "1991-01-18    0.301040\n",
       "1991-01-21    0.313764\n",
       "1991-01-22    0.325945\n",
       "1991-01-23    0.341009\n",
       "1991-01-24    0.355591\n",
       "1991-01-25    0.369493\n",
       "1991-01-28    0.382893\n",
       "1991-01-29    0.395915\n",
       "1991-01-30    0.407890\n",
       "1991-01-31    0.419392\n",
       "                ...   \n",
       "2019-09-04    0.440492\n",
       "2019-09-05    0.432373\n",
       "2019-09-06    0.423702\n",
       "2019-09-09    0.420461\n",
       "2019-09-10    0.413323\n",
       "2019-09-11    0.415500\n",
       "2019-09-12    0.420199\n",
       "2019-09-16    0.413691\n",
       "2019-09-17    0.414783\n",
       "2019-09-18    0.432220\n",
       "2019-09-19    0.429737\n",
       "2019-09-20    0.425669\n",
       "2019-09-23    0.424303\n",
       "2019-09-24    0.434087\n",
       "2019-09-25    0.431676\n",
       "2019-09-26    0.441339\n",
       "2019-09-27    0.449944\n",
       "2019-09-30    0.448384\n",
       "2019-10-08    0.457149\n",
       "2019-10-09    0.454035\n",
       "2019-10-10    0.450132\n",
       "2019-10-11    0.443009\n",
       "2019-10-14    0.434992\n",
       "2019-10-15    0.424861\n",
       "2019-10-16    0.430952\n",
       "2019-10-17    0.435281\n",
       "2019-10-18    0.435668\n",
       "2019-10-21    0.448484\n",
       "2019-10-22    0.447671\n",
       "2019-10-23    0.442743\n",
       "Length: 7050, dtype: float64"
      ]
     },
     "execution_count": 62,
     "metadata": {},
     "output_type": "execute_result"
    }
   ],
   "source": [
    "dataset_closePrice_A"
   ]
  },
  {
   "cell_type": "code",
   "execution_count": 54,
   "metadata": {},
   "outputs": [],
   "source": [
    "dataset_A = dataset_closePrice_A.cumsum()"
   ]
  },
  {
   "cell_type": "code",
   "execution_count": 63,
   "metadata": {
    "scrolled": true
   },
   "outputs": [
    {
     "data": {
      "text/plain": [
       "Date\n",
       "1990-12-20       0.043164\n",
       "1990-12-21       0.086327\n",
       "1990-12-24       0.128876\n",
       "1990-12-25       0.168355\n",
       "1990-12-26       0.205564\n",
       "1990-12-27       0.246892\n",
       "1990-12-28       0.324247\n",
       "1990-12-31       0.424051\n",
       "1991-01-02       0.543161\n",
       "1991-01-03       0.679791\n",
       "1991-01-04       0.831374\n",
       "1991-01-07       0.996929\n",
       "1991-01-08       1.179704\n",
       "1991-01-09       1.378390\n",
       "1991-01-10       1.591399\n",
       "1991-01-11       1.818108\n",
       "1991-01-14       2.057575\n",
       "1991-01-15       2.312831\n",
       "1991-01-16       2.582845\n",
       "1991-01-17       2.870590\n",
       "1991-01-18       3.171630\n",
       "1991-01-21       3.485394\n",
       "1991-01-22       3.811339\n",
       "1991-01-23       4.152348\n",
       "1991-01-24       4.507939\n",
       "1991-01-25       4.877432\n",
       "1991-01-28       5.260325\n",
       "1991-01-29       5.656240\n",
       "1991-01-30       6.064130\n",
       "1991-01-31       6.483523\n",
       "                 ...     \n",
       "2019-09-04    3836.809567\n",
       "2019-09-05    3837.241939\n",
       "2019-09-06    3837.665642\n",
       "2019-09-09    3838.086102\n",
       "2019-09-10    3838.499426\n",
       "2019-09-11    3838.914925\n",
       "2019-09-12    3839.335124\n",
       "2019-09-16    3839.748816\n",
       "2019-09-17    3840.163599\n",
       "2019-09-18    3840.595819\n",
       "2019-09-19    3841.025556\n",
       "2019-09-20    3841.451225\n",
       "2019-09-23    3841.875528\n",
       "2019-09-24    3842.309615\n",
       "2019-09-25    3842.741291\n",
       "2019-09-26    3843.182631\n",
       "2019-09-27    3843.632574\n",
       "2019-09-30    3844.080959\n",
       "2019-10-08    3844.538108\n",
       "2019-10-09    3844.992143\n",
       "2019-10-10    3845.442276\n",
       "2019-10-11    3845.885285\n",
       "2019-10-14    3846.320277\n",
       "2019-10-15    3846.745138\n",
       "2019-10-16    3847.176090\n",
       "2019-10-17    3847.611371\n",
       "2019-10-18    3848.047039\n",
       "2019-10-21    3848.495523\n",
       "2019-10-22    3848.943194\n",
       "2019-10-23    3849.385937\n",
       "Length: 7050, dtype: float64"
      ]
     },
     "execution_count": 63,
     "metadata": {},
     "output_type": "execute_result"
    }
   ],
   "source": [
    "dataset_A"
   ]
  },
  {
   "cell_type": "code",
   "execution_count": 55,
   "metadata": {},
   "outputs": [],
   "source": [
    "dataset_B_1 = pd.Series(dataset_closePrice_log.iloc[0], index=dataset_closePrice_log.index)"
   ]
  },
  {
   "cell_type": "code",
   "execution_count": 56,
   "metadata": {},
   "outputs": [],
   "source": [
    "dataset_B = dataset_B_1.add(dataset_A, fill_value=0)"
   ]
  },
  {
   "cell_type": "code",
   "execution_count": 57,
   "metadata": {
    "scrolled": true
   },
   "outputs": [],
   "source": [
    "dataset_predict = np.exp(dataset_B).copy()"
   ]
  },
  {
   "cell_type": "code",
   "execution_count": 58,
   "metadata": {},
   "outputs": [
    {
     "name": "stderr",
     "output_type": "stream",
     "text": [
      "/home/r2learn/anaconda3/lib/python3.7/site-packages/matplotlib/axes/_base.py:2492: RuntimeWarning: overflow encountered in double_scalars\n",
      "  x1t += delta\n"
     ]
    },
    {
     "data": {
      "text/plain": [
       "[<matplotlib.lines.Line2D at 0x7f50fffa3ef0>]"
      ]
     },
     "execution_count": 58,
     "metadata": {},
     "output_type": "execute_result"
    },
    {
     "data": {
      "image/png": "[encoded data removed]",
      "text/plain": [
       "<Figure size 432x288 with 1 Axes>"
      ]
     },
     "metadata": {
      "needs_background": "light"
     },
     "output_type": "display_data"
    }
   ],
   "source": [
    "plt.plot(dataset_closePrice)\n",
    "plt.plot(dataset_predict)"
   ]
  },
  {
   "cell_type": "code",
   "execution_count": 277,
   "metadata": {},
   "outputs": [],
   "source": [
    "# 从图中可以看出，效果并不太理想"
   ]
  },
  {
   "cell_type": "code",
   "execution_count": 278,
   "metadata": {},
   "outputs": [],
   "source": [
    "#把p值设为4，q值也为4"
   ]
  },
  {
   "cell_type": "code",
   "execution_count": 304,
   "metadata": {},
   "outputs": [
    {
     "name": "stderr",
     "output_type": "stream",
     "text": [
      "/home/r2learn/anaconda3/lib/python3.7/site-packages/statsmodels/tsa/base/tsa_model.py:225: ValueWarning: A date index has been provided, but it has no associated frequency information and so will be ignored when e.g. forecasting.\n",
      "  ' ignored when e.g. forecasting.', ValueWarning)\n",
      "/home/r2learn/anaconda3/lib/python3.7/site-packages/statsmodels/tsa/base/tsa_model.py:225: ValueWarning: A date index has been provided, but it has no associated frequency information and so will be ignored when e.g. forecasting.\n",
      "  ' ignored when e.g. forecasting.', ValueWarning)\n"
     ]
    }
   ],
   "source": [
    "model = arima_model.ARIMA(dataset_closePrice_log, order=(4, 1, 4))"
   ]
  },
  {
   "cell_type": "code",
   "execution_count": 305,
   "metadata": {},
   "outputs": [],
   "source": [
    "dataset_predict_A = model.fit(disp=True)"
   ]
  },
  {
   "cell_type": "code",
   "execution_count": 306,
   "metadata": {},
   "outputs": [],
   "source": [
    "dataset_predict_A = pd.Series(dataset_predict_A.fittedvalues, copy=True)"
   ]
  },
  {
   "cell_type": "code",
   "execution_count": 307,
   "metadata": {},
   "outputs": [],
   "source": [
    "dataset_predict_A_cumsum = dataset_predict_A.cumsum()"
   ]
  },
  {
   "cell_type": "code",
   "execution_count": 308,
   "metadata": {},
   "outputs": [],
   "source": [
    "dataset_predict_B = pd.Series(dataset_closePrice_log.iloc[0], index=dataset_closePrice_log.index)"
   ]
  },
  {
   "cell_type": "code",
   "execution_count": 309,
   "metadata": {},
   "outputs": [],
   "source": [
    "data_predict = dataset_predict_B.add(dataset_predict_A_cumsum, fill_value=0)"
   ]
  },
  {
   "cell_type": "code",
   "execution_count": 310,
   "metadata": {},
   "outputs": [],
   "source": [
    "data_predict = np.exp(data_predict).copy()"
   ]
  },
  {
   "cell_type": "code",
   "execution_count": 311,
   "metadata": {
    "scrolled": true
   },
   "outputs": [
    {
     "data": {
      "text/plain": [
       "Date\n",
       "1990-12-19      99.980000\n",
       "1990-12-20     100.028281\n",
       "1990-12-21     100.291113\n",
       "1990-12-24     100.680517\n",
       "1990-12-25     101.249529\n",
       "1990-12-26     101.903902\n",
       "1990-12-27     102.580213\n",
       "1990-12-28     103.034857\n",
       "1990-12-31     103.423739\n",
       "1991-01-02     103.701232\n",
       "1991-01-03     103.986626\n",
       "1991-01-04     104.250402\n",
       "1991-01-07     104.523296\n",
       "1991-01-08     104.718936\n",
       "1991-01-09     104.885061\n",
       "1991-01-10     105.022452\n",
       "1991-01-11     105.182806\n",
       "1991-01-14     105.338580\n",
       "1991-01-15     105.462791\n",
       "1991-01-16     105.541244\n",
       "1991-01-17     105.581821\n",
       "1991-01-18     105.635742\n",
       "1991-01-21     105.698478\n",
       "1991-01-22     105.759568\n",
       "1991-01-23     105.780251\n",
       "1991-01-24     105.779838\n",
       "1991-01-25     105.770314\n",
       "1991-01-28     105.770352\n",
       "1991-01-29     105.765035\n",
       "1991-01-30     105.749333\n",
       "                 ...     \n",
       "2019-09-04    2958.416630\n",
       "2019-09-05    2964.655654\n",
       "2019-09-06    2967.752990\n",
       "2019-09-09    2969.667631\n",
       "2019-09-10    2972.764940\n",
       "2019-09-11    2977.824045\n",
       "2019-09-12    2982.037862\n",
       "2019-09-16    2984.628144\n",
       "2019-09-17    2984.133782\n",
       "2019-09-18    2982.627492\n",
       "2019-09-19    2984.596420\n",
       "2019-09-20    2987.396110\n",
       "2019-09-23    2988.998230\n",
       "2019-09-24    2987.404716\n",
       "2019-09-25    2987.449057\n",
       "2019-09-26    2987.281113\n",
       "2019-09-27    2988.027454\n",
       "2019-09-30    2987.618606\n",
       "2019-10-08    2985.055623\n",
       "2019-10-09    2983.868641\n",
       "2019-10-10    2985.110394\n",
       "2019-10-11    2988.891927\n",
       "2019-10-14    2992.652867\n",
       "2019-10-15    2995.976597\n",
       "2019-10-16    2997.170058\n",
       "2019-10-17    2999.207183\n",
       "2019-10-18    3001.381481\n",
       "2019-10-21    3001.310135\n",
       "2019-10-22    3000.635758\n",
       "2019-10-23    3000.278827\n",
       "Length: 7051, dtype: float64"
      ]
     },
     "execution_count": 311,
     "metadata": {},
     "output_type": "execute_result"
    }
   ],
   "source": [
    "data_predict"
   ]
  },
  {
   "cell_type": "code",
   "execution_count": 314,
   "metadata": {
    "scrolled": true
   },
   "outputs": [
    {
     "data": {
      "text/plain": [
       "[<matplotlib.lines.Line2D at 0x7fa9e6b9fe10>]"
      ]
     },
     "execution_count": 314,
     "metadata": {},
     "output_type": "execute_result"
    },
    {
     "data": {
      "image/png": "[encoded data removed]",
      "text/plain": [
       "<Figure size 432x288 with 1 Axes>"
      ]
     },
     "metadata": {
      "needs_background": "light"
     },
     "output_type": "display_data"
    }
   ],
   "source": [
    "plt.plot(dataset_closePrice)\n",
    "plt.plot(data_predict)"
   ]
  },
  {
   "cell_type": "code",
   "execution_count": null,
   "metadata": {},
   "outputs": [],
   "source": []
  }
 ],
 "metadata": {
  "kernelspec": {
   "display_name": "Python 3",
   "language": "python",
   "name": "python3"
  },
  "language_info": {
   "codemirror_mode": {
    "name": "ipython",
    "version": 3
   },
   "file_extension": ".py",
   "mimetype": "text/x-python",
   "name": "python",
   "nbconvert_exporter": "python",
   "pygments_lexer": "ipython3",
   "version": "3.7.3"
  }
 },
 "nbformat": 4,
 "nbformat_minor": 2
}
