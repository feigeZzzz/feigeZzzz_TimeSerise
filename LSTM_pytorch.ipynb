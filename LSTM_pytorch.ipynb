{
 "cells": [
  {
   "cell_type": "code",
   "execution_count": 1,
   "metadata": {},
   "outputs": [],
   "source": [
    "import pandas as pd\n",
    "import tensorflow as tf"
   ]
  },
  {
   "cell_type": "code",
   "execution_count": 2,
   "metadata": {},
   "outputs": [
    {
     "data": {
      "text/plain": [
       "'2.0.0-beta0'"
      ]
     },
     "execution_count": 2,
     "metadata": {},
     "output_type": "execute_result"
    }
   ],
   "source": [
    "tf.__version__"
   ]
  },
  {
   "cell_type": "code",
   "execution_count": 3,
   "metadata": {},
   "outputs": [],
   "source": [
    " dataset = pd.read_csv('AirPassengers.csv')"
   ]
  },
  {
   "cell_type": "code",
   "execution_count": 4,
   "metadata": {},
   "outputs": [
    {
     "data": {
      "text/html": [
       "<div>\n",
       "<style scoped>\n",
       "    .dataframe tbody tr th:only-of-type {\n",
       "        vertical-align: middle;\n",
       "    }\n",
       "\n",
       "    .dataframe tbody tr th {\n",
       "        vertical-align: top;\n",
       "    }\n",
       "\n",
       "    .dataframe thead th {\n",
       "        text-align: right;\n",
       "    }\n",
       "</style>\n",
       "<table border=\"1\" class=\"dataframe\">\n",
       "  <thead>\n",
       "    <tr style=\"text-align: right;\">\n",
       "      <th></th>\n",
       "      <th>Month</th>\n",
       "      <th>#Passengers</th>\n",
       "    </tr>\n",
       "  </thead>\n",
       "  <tbody>\n",
       "    <tr>\n",
       "      <th>0</th>\n",
       "      <td>1949-01</td>\n",
       "      <td>112</td>\n",
       "    </tr>\n",
       "    <tr>\n",
       "      <th>1</th>\n",
       "      <td>1949-02</td>\n",
       "      <td>118</td>\n",
       "    </tr>\n",
       "    <tr>\n",
       "      <th>2</th>\n",
       "      <td>1949-03</td>\n",
       "      <td>132</td>\n",
       "    </tr>\n",
       "    <tr>\n",
       "      <th>3</th>\n",
       "      <td>1949-04</td>\n",
       "      <td>129</td>\n",
       "    </tr>\n",
       "    <tr>\n",
       "      <th>4</th>\n",
       "      <td>1949-05</td>\n",
       "      <td>121</td>\n",
       "    </tr>\n",
       "  </tbody>\n",
       "</table>\n",
       "</div>"
      ],
      "text/plain": [
       "     Month  #Passengers\n",
       "0  1949-01          112\n",
       "1  1949-02          118\n",
       "2  1949-03          132\n",
       "3  1949-04          129\n",
       "4  1949-05          121"
      ]
     },
     "execution_count": 4,
     "metadata": {},
     "output_type": "execute_result"
    }
   ],
   "source": [
    "dataset.head()"
   ]
  },
  {
   "cell_type": "code",
   "execution_count": 5,
   "metadata": {},
   "outputs": [
    {
     "data": {
      "text/plain": [
       "RangeIndex(start=0, stop=144, step=1)"
      ]
     },
     "execution_count": 5,
     "metadata": {},
     "output_type": "execute_result"
    }
   ],
   "source": [
    "dataset.index"
   ]
  },
  {
   "cell_type": "code",
   "execution_count": 6,
   "metadata": {},
   "outputs": [
    {
     "data": {
      "text/plain": [
       "<matplotlib.axes._subplots.AxesSubplot at 0x7ff87b7809e8>"
      ]
     },
     "execution_count": 6,
     "metadata": {},
     "output_type": "execute_result"
    }
   ],
   "source": [
    "dataset.plot()"
   ]
  },
  {
   "cell_type": "code",
   "execution_count": 7,
   "metadata": {},
   "outputs": [],
   "source": [
    "import matplotlib.pyplot as plt"
   ]
  },
  {
   "cell_type": "code",
   "execution_count": 8,
   "metadata": {},
   "outputs": [],
   "source": [
    "dataset.set_index(keys=['Month'], drop=True, inplace=True)"
   ]
  },
  {
   "cell_type": "code",
   "execution_count": 9,
   "metadata": {},
   "outputs": [
    {
     "data": {
      "text/html": [
       "<div>\n",
       "<style scoped>\n",
       "    .dataframe tbody tr th:only-of-type {\n",
       "        vertical-align: middle;\n",
       "    }\n",
       "\n",
       "    .dataframe tbody tr th {\n",
       "        vertical-align: top;\n",
       "    }\n",
       "\n",
       "    .dataframe thead th {\n",
       "        text-align: right;\n",
       "    }\n",
       "</style>\n",
       "<table border=\"1\" class=\"dataframe\">\n",
       "  <thead>\n",
       "    <tr style=\"text-align: right;\">\n",
       "      <th></th>\n",
       "      <th>#Passengers</th>\n",
       "    </tr>\n",
       "    <tr>\n",
       "      <th>Month</th>\n",
       "      <th></th>\n",
       "    </tr>\n",
       "  </thead>\n",
       "  <tbody>\n",
       "    <tr>\n",
       "      <th>1949-01</th>\n",
       "      <td>112</td>\n",
       "    </tr>\n",
       "    <tr>\n",
       "      <th>1949-02</th>\n",
       "      <td>118</td>\n",
       "    </tr>\n",
       "    <tr>\n",
       "      <th>1949-03</th>\n",
       "      <td>132</td>\n",
       "    </tr>\n",
       "    <tr>\n",
       "      <th>1949-04</th>\n",
       "      <td>129</td>\n",
       "    </tr>\n",
       "    <tr>\n",
       "      <th>1949-05</th>\n",
       "      <td>121</td>\n",
       "    </tr>\n",
       "  </tbody>\n",
       "</table>\n",
       "</div>"
      ],
      "text/plain": [
       "         #Passengers\n",
       "Month               \n",
       "1949-01          112\n",
       "1949-02          118\n",
       "1949-03          132\n",
       "1949-04          129\n",
       "1949-05          121"
      ]
     },
     "execution_count": 9,
     "metadata": {},
     "output_type": "execute_result"
    }
   ],
   "source": [
    "dataset.head()"
   ]
  },
  {
   "cell_type": "code",
   "execution_count": 10,
   "metadata": {},
   "outputs": [
    {
     "name": "stderr",
     "output_type": "stream",
     "text": [
      "/home/r2learn/anaconda3/lib/python3.7/site-packages/sklearn/utils/validation.py:475: DataConversionWarning: Data with input dtype int64 was converted to float64 by MinMaxScaler.\n",
      "  warnings.warn(msg, DataConversionWarning)\n"
     ]
    }
   ],
   "source": [
    "from sklearn.preprocessing import MinMaxScaler\n",
    "ms = MinMaxScaler()\n",
    "dataset = ms.fit_transform(dataset.values)"
   ]
  },
  {
   "cell_type": "code",
   "execution_count": 11,
   "metadata": {},
   "outputs": [
    {
     "data": {
      "text/plain": [
       "array([[0.01544402],\n",
       "       [0.02702703],\n",
       "       [0.05405405],\n",
       "       [0.04826255],\n",
       "       [0.03281853],\n",
       "       [0.05984556],\n",
       "       [0.08494208],\n",
       "       [0.08494208],\n",
       "       [0.06177606],\n",
       "       [0.02895753],\n",
       "       [0.        ],\n",
       "       [0.02702703],\n",
       "       [0.02123552],\n",
       "       [0.04247104],\n",
       "       [0.07142857],\n",
       "       [0.05984556],\n",
       "       [0.04054054],\n",
       "       [0.08687259],\n",
       "       [0.12741313],\n",
       "       [0.12741313],\n",
       "       [0.1042471 ],\n",
       "       [0.05598456],\n",
       "       [0.01930502],\n",
       "       [0.06949807],\n",
       "       [0.07915058],\n",
       "       [0.08880309],\n",
       "       [0.14285714],\n",
       "       [0.11389961],\n",
       "       [0.13127413],\n",
       "       [0.14285714],\n",
       "       [0.18339768],\n",
       "       [0.18339768],\n",
       "       [0.15444015],\n",
       "       [0.11196911],\n",
       "       [0.08108108],\n",
       "       [0.11969112],\n",
       "       [0.12934363],\n",
       "       [0.14671815],\n",
       "       [0.17181467],\n",
       "       [0.14864865],\n",
       "       [0.15250965],\n",
       "       [0.22007722],\n",
       "       [0.24324324],\n",
       "       [0.26640927],\n",
       "       [0.2027027 ],\n",
       "       [0.16795367],\n",
       "       [0.13127413],\n",
       "       [0.17374517],\n",
       "       [0.17760618],\n",
       "       [0.17760618],\n",
       "       [0.25482625],\n",
       "       [0.25289575],\n",
       "       [0.24131274],\n",
       "       [0.26833977],\n",
       "       [0.30888031],\n",
       "       [0.32432432],\n",
       "       [0.25675676],\n",
       "       [0.20656371],\n",
       "       [0.14671815],\n",
       "       [0.18725869],\n",
       "       [0.19305019],\n",
       "       [0.16216216],\n",
       "       [0.25289575],\n",
       "       [0.23745174],\n",
       "       [0.25096525],\n",
       "       [0.30888031],\n",
       "       [0.38223938],\n",
       "       [0.36486486],\n",
       "       [0.2992278 ],\n",
       "       [0.24131274],\n",
       "       [0.19111969],\n",
       "       [0.24131274],\n",
       "       [0.26640927],\n",
       "       [0.24903475],\n",
       "       [0.31467181],\n",
       "       [0.31853282],\n",
       "       [0.32046332],\n",
       "       [0.40733591],\n",
       "       [0.5019305 ],\n",
       "       [0.46911197],\n",
       "       [0.4015444 ],\n",
       "       [0.32818533],\n",
       "       [0.25675676],\n",
       "       [0.33590734],\n",
       "       [0.34749035],\n",
       "       [0.33397683],\n",
       "       [0.41119691],\n",
       "       [0.4034749 ],\n",
       "       [0.41312741],\n",
       "       [0.52123552],\n",
       "       [0.5965251 ],\n",
       "       [0.58108108],\n",
       "       [0.48455598],\n",
       "       [0.38996139],\n",
       "       [0.32239382],\n",
       "       [0.38996139],\n",
       "       [0.40733591],\n",
       "       [0.38030888],\n",
       "       [0.48648649],\n",
       "       [0.47104247],\n",
       "       [0.48455598],\n",
       "       [0.61389961],\n",
       "       [0.6969112 ],\n",
       "       [0.7007722 ],\n",
       "       [0.57915058],\n",
       "       [0.46911197],\n",
       "       [0.38803089],\n",
       "       [0.44787645],\n",
       "       [0.45559846],\n",
       "       [0.41312741],\n",
       "       [0.4980695 ],\n",
       "       [0.47104247],\n",
       "       [0.5       ],\n",
       "       [0.63899614],\n",
       "       [0.74710425],\n",
       "       [0.77413127],\n",
       "       [0.57915058],\n",
       "       [0.49227799],\n",
       "       [0.3976834 ],\n",
       "       [0.44980695],\n",
       "       [0.49420849],\n",
       "       [0.45945946],\n",
       "       [0.58301158],\n",
       "       [0.56370656],\n",
       "       [0.61003861],\n",
       "       [0.71042471],\n",
       "       [0.85714286],\n",
       "       [0.87837838],\n",
       "       [0.69305019],\n",
       "       [0.58494208],\n",
       "       [0.4980695 ],\n",
       "       [0.58108108],\n",
       "       [0.6042471 ],\n",
       "       [0.55405405],\n",
       "       [0.60810811],\n",
       "       [0.68918919],\n",
       "       [0.71042471],\n",
       "       [0.83204633],\n",
       "       [1.        ],\n",
       "       [0.96911197],\n",
       "       [0.77992278],\n",
       "       [0.68918919],\n",
       "       [0.55212355],\n",
       "       [0.63320463]])"
      ]
     },
     "execution_count": 11,
     "metadata": {},
     "output_type": "execute_result"
    }
   ],
   "source": [
    "dataset"
   ]
  },
  {
   "cell_type": "code",
   "execution_count": 12,
   "metadata": {},
   "outputs": [],
   "source": [
    "train_size = int(len(dataset) * 0.7)"
   ]
  },
  {
   "cell_type": "code",
   "execution_count": 13,
   "metadata": {},
   "outputs": [],
   "source": [
    "train_data = dataset[:train_size]\n",
    "test_data = dataset[train_size:]"
   ]
  },
  {
   "cell_type": "code",
   "execution_count": 14,
   "metadata": {},
   "outputs": [],
   "source": [
    "import numpy as np\n",
    "import math"
   ]
  },
  {
   "cell_type": "code",
   "execution_count": 15,
   "metadata": {},
   "outputs": [],
   "source": [
    "np.random.seed(7)"
   ]
  },
  {
   "cell_type": "code",
   "execution_count": 16,
   "metadata": {},
   "outputs": [],
   "source": [
    "def creat_data(dataset, back):\n",
    "    return dataset[0:len(dataset)-back], dataset[back:]"
   ]
  },
  {
   "cell_type": "code",
   "execution_count": 17,
   "metadata": {},
   "outputs": [],
   "source": [
    "train_X, train_y = creat_data(train_data, 1)\n",
    "val_X, val_y = creat_data(test_data, 1)"
   ]
  },
  {
   "cell_type": "code",
   "execution_count": 18,
   "metadata": {},
   "outputs": [],
   "source": [
    "train_X = train_X[:,:, np.newaxis]"
   ]
  },
  {
   "cell_type": "code",
   "execution_count": 19,
   "metadata": {},
   "outputs": [],
   "source": [
    "# build LSTM model\n",
    "model = tf.keras.models.Sequential()"
   ]
  },
  {
   "cell_type": "code",
   "execution_count": 20,
   "metadata": {},
   "outputs": [],
   "source": [
    "#model.add(tf.keras.layers.Dense(5, input_shape=[4, ], activation='relu'))"
   ]
  },
  {
   "cell_type": "code",
   "execution_count": 21,
   "metadata": {},
   "outputs": [],
   "source": [
    "model.add(tf.keras.layers.LSTM(4, input_shape=[1, 1]))"
   ]
  },
  {
   "cell_type": "code",
   "execution_count": 22,
   "metadata": {},
   "outputs": [
    {
     "name": "stdout",
     "output_type": "stream",
     "text": [
      "Model: \"sequential\"\n",
      "_________________________________________________________________\n",
      "Layer (type)                 Output Shape              Param #   \n",
      "=================================================================\n",
      "lstm (LSTM)                  (None, 4)                 96        \n",
      "=================================================================\n",
      "Total params: 96\n",
      "Trainable params: 96\n",
      "Non-trainable params: 0\n",
      "_________________________________________________________________\n"
     ]
    }
   ],
   "source": [
    "model.summary()"
   ]
  },
  {
   "cell_type": "code",
   "execution_count": 23,
   "metadata": {},
   "outputs": [],
   "source": [
    "import datetime"
   ]
  },
  {
   "cell_type": "code",
   "execution_count": 24,
   "metadata": {},
   "outputs": [],
   "source": [
    "model.add(tf.keras.layers.Dense(1, activation='relu'))"
   ]
  },
  {
   "cell_type": "code",
   "execution_count": 25,
   "metadata": {},
   "outputs": [],
   "source": [
    "model.compile(loss='mean_squared_error', optimizer='adam')"
   ]
  },
  {
   "cell_type": "code",
   "execution_count": 29,
   "metadata": {},
   "outputs": [],
   "source": [
    "logdir = 'logs/fit/' + datetime.datetime.now().strftime('%Y%m%d-%H%M%S')"
   ]
  },
  {
   "cell_type": "code",
   "execution_count": 30,
   "metadata": {},
   "outputs": [],
   "source": [
    "tesorboard_callback = tf.keras.callbacks.TensorBoard(log_dir=logdir)"
   ]
  },
  {
   "cell_type": "code",
   "execution_count": 31,
   "metadata": {
    "scrolled": true
   },
   "outputs": [
    {
     "name": "stdout",
     "output_type": "stream",
     "text": [
      "Train on 99 samples\n",
      "Epoch 1/100\n",
      "99/99 [==============================] - 1s 6ms/sample - loss: 0.0698\n",
      "Epoch 2/100\n",
      "99/99 [==============================] - 0s 2ms/sample - loss: 0.0698\n",
      "Epoch 3/100\n",
      "99/99 [==============================] - 0s 2ms/sample - loss: 0.0698\n",
      "Epoch 4/100\n",
      "99/99 [==============================] - 0s 2ms/sample - loss: 0.0698\n",
      "Epoch 5/100\n",
      "99/99 [==============================] - 0s 2ms/sample - loss: 0.0698\n",
      "Epoch 6/100\n",
      "99/99 [==============================] - 0s 2ms/sample - loss: 0.0698\n",
      "Epoch 7/100\n",
      "99/99 [==============================] - 0s 2ms/sample - loss: 0.0698\n",
      "Epoch 8/100\n",
      "99/99 [==============================] - 0s 2ms/sample - loss: 0.0698\n",
      "Epoch 9/100\n",
      "99/99 [==============================] - 0s 2ms/sample - loss: 0.0698\n",
      "Epoch 10/100\n",
      "99/99 [==============================] - 0s 2ms/sample - loss: 0.0698\n",
      "Epoch 11/100\n",
      "99/99 [==============================] - 0s 2ms/sample - loss: 0.0698\n",
      "Epoch 12/100\n",
      "99/99 [==============================] - 0s 2ms/sample - loss: 0.0698\n",
      "Epoch 13/100\n",
      "99/99 [==============================] - 0s 2ms/sample - loss: 0.0698\n",
      "Epoch 14/100\n",
      "99/99 [==============================] - 0s 2ms/sample - loss: 0.0698\n",
      "Epoch 15/100\n",
      "99/99 [==============================] - 0s 2ms/sample - loss: 0.0698\n",
      "Epoch 16/100\n",
      "99/99 [==============================] - 0s 2ms/sample - loss: 0.0698\n",
      "Epoch 17/100\n",
      "99/99 [==============================] - 0s 2ms/sample - loss: 0.0698\n",
      "Epoch 18/100\n",
      "99/99 [==============================] - 0s 2ms/sample - loss: 0.0698\n",
      "Epoch 19/100\n",
      "99/99 [==============================] - 0s 2ms/sample - loss: 0.0698\n",
      "Epoch 20/100\n",
      "99/99 [==============================] - 0s 2ms/sample - loss: 0.0698\n",
      "Epoch 21/100\n",
      "99/99 [==============================] - 0s 2ms/sample - loss: 0.0698\n",
      "Epoch 22/100\n",
      "99/99 [==============================] - 0s 2ms/sample - loss: 0.0698\n",
      "Epoch 23/100\n",
      "99/99 [==============================] - 0s 2ms/sample - loss: 0.0698\n",
      "Epoch 24/100\n",
      "99/99 [==============================] - 0s 3ms/sample - loss: 0.0698\n",
      "Epoch 25/100\n",
      "99/99 [==============================] - 0s 2ms/sample - loss: 0.0698\n",
      "Epoch 26/100\n",
      "99/99 [==============================] - 0s 2ms/sample - loss: 0.0698\n",
      "Epoch 27/100\n",
      "99/99 [==============================] - 0s 2ms/sample - loss: 0.0698\n",
      "Epoch 28/100\n",
      "99/99 [==============================] - 0s 2ms/sample - loss: 0.0698\n",
      "Epoch 29/100\n",
      "99/99 [==============================] - 0s 2ms/sample - loss: 0.0698\n",
      "Epoch 30/100\n",
      "99/99 [==============================] - 0s 2ms/sample - loss: 0.0698\n",
      "Epoch 31/100\n",
      "99/99 [==============================] - 0s 2ms/sample - loss: 0.0698\n",
      "Epoch 32/100\n",
      "99/99 [==============================] - 0s 2ms/sample - loss: 0.0698\n",
      "Epoch 33/100\n",
      "99/99 [==============================] - 0s 2ms/sample - loss: 0.0698\n",
      "Epoch 34/100\n",
      "99/99 [==============================] - 0s 2ms/sample - loss: 0.0698\n",
      "Epoch 35/100\n",
      "99/99 [==============================] - 0s 2ms/sample - loss: 0.0698\n",
      "Epoch 36/100\n",
      "99/99 [==============================] - 0s 2ms/sample - loss: 0.0698\n",
      "Epoch 37/100\n",
      "99/99 [==============================] - 0s 2ms/sample - loss: 0.0698\n",
      "Epoch 38/100\n",
      "99/99 [==============================] - 0s 2ms/sample - loss: 0.0698\n",
      "Epoch 39/100\n",
      "99/99 [==============================] - 0s 2ms/sample - loss: 0.0698\n",
      "Epoch 40/100\n",
      "99/99 [==============================] - 0s 2ms/sample - loss: 0.0698\n",
      "Epoch 41/100\n",
      "99/99 [==============================] - 0s 2ms/sample - loss: 0.0698\n",
      "Epoch 42/100\n",
      "99/99 [==============================] - 0s 2ms/sample - loss: 0.0698\n",
      "Epoch 43/100\n",
      "99/99 [==============================] - 0s 2ms/sample - loss: 0.0698\n",
      "Epoch 44/100\n",
      "99/99 [==============================] - 0s 2ms/sample - loss: 0.0698\n",
      "Epoch 45/100\n",
      "99/99 [==============================] - 0s 2ms/sample - loss: 0.0698\n",
      "Epoch 46/100\n",
      "99/99 [==============================] - 0s 2ms/sample - loss: 0.0698\n",
      "Epoch 47/100\n",
      "99/99 [==============================] - 0s 2ms/sample - loss: 0.0698\n",
      "Epoch 48/100\n",
      "99/99 [==============================] - 0s 2ms/sample - loss: 0.0698\n",
      "Epoch 49/100\n",
      "99/99 [==============================] - 0s 2ms/sample - loss: 0.0698\n",
      "Epoch 50/100\n",
      "99/99 [==============================] - 0s 2ms/sample - loss: 0.0698\n",
      "Epoch 51/100\n",
      "99/99 [==============================] - 0s 2ms/sample - loss: 0.0698\n",
      "Epoch 52/100\n",
      "99/99 [==============================] - 0s 2ms/sample - loss: 0.0698\n",
      "Epoch 53/100\n",
      "99/99 [==============================] - 0s 2ms/sample - loss: 0.0698\n",
      "Epoch 54/100\n",
      "99/99 [==============================] - 0s 2ms/sample - loss: 0.0698\n",
      "Epoch 55/100\n",
      "99/99 [==============================] - 0s 2ms/sample - loss: 0.0698\n",
      "Epoch 56/100\n",
      "99/99 [==============================] - 0s 2ms/sample - loss: 0.0698\n",
      "Epoch 57/100\n",
      "99/99 [==============================] - 0s 2ms/sample - loss: 0.0698\n",
      "Epoch 58/100\n",
      "99/99 [==============================] - 0s 2ms/sample - loss: 0.0698\n",
      "Epoch 59/100\n",
      "99/99 [==============================] - 0s 2ms/sample - loss: 0.0698\n",
      "Epoch 60/100\n",
      "99/99 [==============================] - 0s 2ms/sample - loss: 0.0698\n",
      "Epoch 61/100\n",
      "99/99 [==============================] - 0s 2ms/sample - loss: 0.0698\n",
      "Epoch 62/100\n",
      "99/99 [==============================] - 0s 2ms/sample - loss: 0.0698\n",
      "Epoch 63/100\n",
      "99/99 [==============================] - 0s 2ms/sample - loss: 0.0698\n",
      "Epoch 64/100\n",
      "99/99 [==============================] - 0s 2ms/sample - loss: 0.0698\n",
      "Epoch 65/100\n",
      "99/99 [==============================] - 0s 2ms/sample - loss: 0.0698\n",
      "Epoch 66/100\n",
      "99/99 [==============================] - 0s 2ms/sample - loss: 0.0698\n",
      "Epoch 67/100\n",
      "99/99 [==============================] - 0s 2ms/sample - loss: 0.0698\n",
      "Epoch 68/100\n",
      "99/99 [==============================] - 0s 2ms/sample - loss: 0.0698\n",
      "Epoch 69/100\n",
      "99/99 [==============================] - 0s 2ms/sample - loss: 0.0698\n",
      "Epoch 70/100\n",
      "99/99 [==============================] - 0s 2ms/sample - loss: 0.0698\n",
      "Epoch 71/100\n",
      "99/99 [==============================] - 0s 2ms/sample - loss: 0.0698\n",
      "Epoch 72/100\n",
      "99/99 [==============================] - 0s 2ms/sample - loss: 0.0698\n",
      "Epoch 73/100\n",
      "99/99 [==============================] - 0s 3ms/sample - loss: 0.0698\n",
      "Epoch 74/100\n",
      "99/99 [==============================] - 0s 2ms/sample - loss: 0.0698\n",
      "Epoch 75/100\n",
      "99/99 [==============================] - 0s 2ms/sample - loss: 0.0698\n",
      "Epoch 76/100\n",
      "99/99 [==============================] - 0s 2ms/sample - loss: 0.0698\n",
      "Epoch 77/100\n",
      "99/99 [==============================] - 0s 2ms/sample - loss: 0.0698\n",
      "Epoch 78/100\n",
      "99/99 [==============================] - 0s 2ms/sample - loss: 0.0698\n",
      "Epoch 79/100\n",
      "99/99 [==============================] - 0s 2ms/sample - loss: 0.0698\n",
      "Epoch 80/100\n",
      "99/99 [==============================] - 0s 2ms/sample - loss: 0.0698\n",
      "Epoch 81/100\n",
      "99/99 [==============================] - 0s 2ms/sample - loss: 0.0698\n",
      "Epoch 82/100\n",
      "99/99 [==============================] - 0s 2ms/sample - loss: 0.0698\n",
      "Epoch 83/100\n",
      "99/99 [==============================] - 0s 2ms/sample - loss: 0.0698\n",
      "Epoch 84/100\n",
      "99/99 [==============================] - 0s 2ms/sample - loss: 0.0698\n",
      "Epoch 85/100\n",
      "99/99 [==============================] - 0s 2ms/sample - loss: 0.0698\n",
      "Epoch 86/100\n",
      "99/99 [==============================] - 0s 2ms/sample - loss: 0.0698\n",
      "Epoch 87/100\n",
      "99/99 [==============================] - 0s 2ms/sample - loss: 0.0698\n",
      "Epoch 88/100\n",
      "99/99 [==============================] - 0s 2ms/sample - loss: 0.0698\n",
      "Epoch 89/100\n",
      "99/99 [==============================] - 0s 2ms/sample - loss: 0.0698\n",
      "Epoch 90/100\n",
      "99/99 [==============================] - 0s 2ms/sample - loss: 0.0698\n",
      "Epoch 91/100\n",
      "99/99 [==============================] - 0s 2ms/sample - loss: 0.0698\n",
      "Epoch 92/100\n",
      "99/99 [==============================] - 0s 2ms/sample - loss: 0.0698\n",
      "Epoch 93/100\n",
      "99/99 [==============================] - 0s 2ms/sample - loss: 0.0698\n",
      "Epoch 94/100\n",
      "99/99 [==============================] - 0s 2ms/sample - loss: 0.0698\n",
      "Epoch 95/100\n",
      "99/99 [==============================] - 0s 2ms/sample - loss: 0.0698\n",
      "Epoch 96/100\n",
      "99/99 [==============================] - 0s 2ms/sample - loss: 0.0698\n",
      "Epoch 97/100\n",
      "99/99 [==============================] - 0s 2ms/sample - loss: 0.0698\n",
      "Epoch 98/100\n",
      "99/99 [==============================] - 0s 2ms/sample - loss: 0.0698\n",
      "Epoch 99/100\n"
     ]
    },
    {
     "name": "stdout",
     "output_type": "stream",
     "text": [
      "99/99 [==============================] - 0s 2ms/sample - loss: 0.0698\n",
      "Epoch 100/100\n",
      "99/99 [==============================] - 0s 2ms/sample - loss: 0.0698\n"
     ]
    },
    {
     "data": {
      "text/plain": [
       "<tensorflow.python.keras.callbacks.History at 0x7ff814619ac8>"
      ]
     },
     "execution_count": 31,
     "metadata": {},
     "output_type": "execute_result"
    }
   ],
   "source": [
    "model.fit(x=train_X, y=train_y, epochs=100, batch_size=1, callbacks=[tesorboard_callback])"
   ]
  },
  {
   "cell_type": "code",
   "execution_count": null,
   "metadata": {},
   "outputs": [],
   "source": [
    "%tensorboard --logdir logs"
   ]
  },
  {
   "cell_type": "code",
   "execution_count": 112,
   "metadata": {},
   "outputs": [
    {
     "data": {
      "text/plain": [
       "'/logs/fit20191024-170228'"
      ]
     },
     "execution_count": 112,
     "metadata": {},
     "output_type": "execute_result"
    }
   ],
   "source": [
    "logdir"
   ]
  },
  {
   "cell_type": "code",
   "execution_count": 124,
   "metadata": {},
   "outputs": [
    {
     "data": {
      "text/plain": [
       "'/logs/fit/20191024-171231'"
      ]
     },
     "execution_count": 124,
     "metadata": {},
     "output_type": "execute_result"
    }
   ],
   "source": [
    "logdir"
   ]
  },
  {
   "cell_type": "code",
   "execution_count": null,
   "metadata": {},
   "outputs": [],
   "source": []
  }
 ],
 "metadata": {
  "kernelspec": {
   "display_name": "Python 3",
   "language": "python",
   "name": "python3"
  },
  "language_info": {
   "codemirror_mode": {
    "name": "ipython",
    "version": 3
   },
   "file_extension": ".py",
   "mimetype": "text/x-python",
   "name": "python",
   "nbconvert_exporter": "python",
   "pygments_lexer": "ipython3",
   "version": "3.7.3"
  }
 },
 "nbformat": 4,
 "nbformat_minor": 2
}
